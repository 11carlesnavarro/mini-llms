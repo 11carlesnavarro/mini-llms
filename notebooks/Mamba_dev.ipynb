{
 "cells": [
  {
   "cell_type": "code",
   "execution_count": 27,
   "id": "701e8236-4f9e-430b-80fe-91cb0ef08fba",
   "metadata": {},
   "outputs": [],
   "source": [
    "import torch\n",
    "import torch.nn as nn\n",
    "from dataclasses import dataclass\n",
    "from typing import Union\n",
    "from einops import rearrange, repeat, einsum\n",
    "import math"
   ]
  },
  {
   "cell_type": "code",
   "execution_count": 28,
   "id": "893d6485-990d-449f-b2c2-5ec2eb6885d9",
   "metadata": {},
   "outputs": [],
   "source": [
    "@dataclass\n",
    "class ModelArgs:\n",
    "    d_model: int\n",
    "    n_layer: int\n",
    "    vocab_size: int\n",
    "    d_state: int = 16\n",
    "    expand: int = 2\n",
    "    dt_rank: Union[int, str] = 'auto'\n",
    "    d_conv: int = 4 \n",
    "    pad_vocab_size_multiple: int = 8\n",
    "    conv_bias: bool = True\n",
    "    bias: bool = False\n",
    "    \n",
    "    def __post_init__(self):\n",
    "        self.d_inner = int(self.expand * self.d_model)\n",
    "        \n",
    "        if self.dt_rank == 'auto':\n",
    "            self.dt_rank = math.ceil(self.d_model / 16)\n",
    "            \n",
    "        if self.vocab_size % self.pad_vocab_size_multiple != 0:\n",
    "            self.vocab_size += (self.pad_vocab_size_multiple\n",
    "                                - self.vocab_size % self.pad_vocab_size_multiple)\n"
   ]
  },
  {
   "cell_type": "code",
   "execution_count": 56,
   "id": "c8bf3c2d-412d-4261-b162-a6893c2db71d",
   "metadata": {},
   "outputs": [],
   "source": [
    "class MambaBlock(nn.Module):\n",
    "    def __init__(self, args: ModelArgs):\n",
    "        \"\"\" A single Mamba block, as describted in Figure 3 in section 3.4 in the Mamba paper\"\"\"\n",
    "        super().__init__()\n",
    "        self.args = args\n",
    "        \n",
    "        self.in_proj = nn.Linear(args.d_model, args.d_inner * 2, bias=args.bias)\n",
    "        \n",
    "        self.conv1d = nn.Conv1d(\n",
    "            in_channels = args.d_inner,\n",
    "            out_channels = args.d_inner, \n",
    "            bias = args.conv_bias,\n",
    "            kernel_size = args.d_conv,\n",
    "            groups = args.d_inner,\n",
    "            padding = args.d_conv -1\n",
    "        )\n",
    "        \n",
    "        # x_proj takes `x` and outputs the input-specific Δ, B, C\n",
    "        self.x_proj = nn.Linear(args.d_inner, args.dt_rank + args.d_state * 2, bias=False)\n",
    "        \n",
    "        \n",
    "        \n",
    "        # dt_proj projects Δ from dt_rank to d_in\n",
    "        self.dt_proj = nn.Linear(args.dt_rank, args.d_inner, bias=True)\n",
    "        \n",
    "        A = repeat(torch.arange(1, args.d_state + 1), 'n -> d n', d = args.d_inner)\n",
    "        self.A_log = nn.Parameter(torch.log(A))\n",
    "        self.D = nn.Parameter(torch.ones(args.d_inner))\n",
    "        \n",
    "        self.out_proj = nn.Linear(args.d_inner, args.d_model, bias=args.bias)\n",
    "        "
   ]
  },
  {
   "cell_type": "code",
   "execution_count": 57,
   "id": "6b58662f-8e4d-4c54-823e-2bc7b4039dbc",
   "metadata": {},
   "outputs": [],
   "source": [
    "args = ModelArgs(\n",
    "    d_model = 16,\n",
    "    n_layer = 1, \n",
    "    vocab_size= 200\n",
    ")"
   ]
  },
  {
   "cell_type": "code",
   "execution_count": 58,
   "id": "d8fcc344-34d5-4739-9f37-b028f018299f",
   "metadata": {},
   "outputs": [],
   "source": [
    "block = MambaBlock(args)"
   ]
  },
  {
   "cell_type": "code",
   "execution_count": 59,
   "id": "b934ac28-90e4-409b-b2be-e557e8b5ebf6",
   "metadata": {},
   "outputs": [
    {
     "data": {
      "text/plain": [
       "3360"
      ]
     },
     "execution_count": 59,
     "metadata": {},
     "output_type": "execute_result"
    }
   ],
   "source": [
    "sum(p.numel() for p in block.parameters())"
   ]
  },
  {
   "cell_type": "code",
   "execution_count": null,
   "id": "4a778f4d-cf7b-4af6-9824-c8148e563a4d",
   "metadata": {},
   "outputs": [],
   "source": []
  }
 ],
 "metadata": {
  "kernelspec": {
   "display_name": "mini-diffusers",
   "language": "python",
   "name": "mini-diffusers"
  },
  "language_info": {
   "codemirror_mode": {
    "name": "ipython",
    "version": 3
   },
   "file_extension": ".py",
   "mimetype": "text/x-python",
   "name": "python",
   "nbconvert_exporter": "python",
   "pygments_lexer": "ipython3",
   "version": "3.11.6"
  }
 },
 "nbformat": 4,
 "nbformat_minor": 5
}
